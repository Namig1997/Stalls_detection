{
 "cells": [
  {
   "cell_type": "code",
   "execution_count": 2,
   "metadata": {},
   "outputs": [],
   "source": [
    "import os\n",
    "import sys\n",
    "import warnings\n",
    "warnings.filterwarnings(\"ignore\")\n",
    "import numpy as np\n",
    "import pandas as pd\n",
    "import tensorflow as tf\n",
    "from tqdm import tqdm_notebook as tqdm\n",
    "from sklearn.model_selection import train_test_split\n",
    "from sklearn.metrics import (\n",
    "    accuracy_score, precision_score, recall_score, f1_score, matthews_corrcoef, roc_auc_score)\n",
    "\n",
    "sys.path.append(\"../code/\")\n",
    "from models.layers import *"
   ]
  },
  {
   "cell_type": "code",
   "execution_count": 3,
   "metadata": {
    "code_folding": [
     0
    ]
   },
   "outputs": [],
   "source": [
    "folder_data = \"../res/data/\"\n",
    "folder_nano = os.path.join(folder_data, \"nano\")\n",
    "folder_nano_numpy = os.path.join(folder_data, \"nano_volumes\")\n",
    "filename_train_labels = os.path.join(folder_data, \"train_labels.csv\")\n",
    "filename_train_metadata = os.path.join(folder_data, \"train_metadata.csv\")\n",
    "filename_test_metadata = os.path.join(folder_data, \"test_metadata.csv\")\n",
    "folder_test_numpy = \"/media/igorkozlovskii/Elements/Projects/stall_catchers/test_numpy/\"\n",
    "\n",
    "\n",
    "def get_simple_model(input_shape=(32, 32, 32)):\n",
    "    \n",
    "    model = tf.keras.models.Sequential([\n",
    "        tf.keras.layers.Reshape(input_shape + (1,)),\n",
    "        ConvBlock_1(32),\n",
    "        ConvBlock_1(64),\n",
    "        ConvBlock_2(64),\n",
    "        ConvBlock_2(128),\n",
    "        Conv3D_bn(256, kernel_size=2, padding=\"valid\"),\n",
    "        tf.keras.layers.Reshape((256,)),\n",
    "        Dense(1, activation=tf.keras.activations.sigmoid),\n",
    "    ])\n",
    "    return model\n",
    "\n",
    "def get_binary(y, threshold=0.5):\n",
    "    return y >= threshold\n",
    "    \n",
    "def get_scores(y_true, y_pred, threshold=0.5):\n",
    "    y_pred_bin = get_binary(y_pred, threshold=threshold)\n",
    "    scores = {\n",
    "        \"accuracy\": accuracy_score(y_true, y_pred_bin),\n",
    "        \"precision\": precision_score(y_true, y_pred_bin),\n",
    "        \"recall\": recall_score(y_true, y_pred_bin),\n",
    "        \"f1\": f1_score(y_true, y_pred_bin),\n",
    "        \"auc\": roc_auc_score(y_true, y_pred),\n",
    "        \"mcc\": matthews_corrcoef(y_true, y_pred_bin),\n",
    "    }\n",
    "    return scores\n",
    "\n",
    "def print_scores(*args, **kwargs):\n",
    "    scores = get_scores(*args, **kwargs)\n",
    "    for name, value in scores.items():\n",
    "        print(\"{:10s} {:.3f}\".format(name, value))\n",
    "    return scores"
   ]
  },
  {
   "cell_type": "code",
   "execution_count": 4,
   "metadata": {
    "tags": []
   },
   "outputs": [
    {
     "output_type": "display_data",
     "data": {
      "text/plain": "HBox(children=(IntProgress(value=0, max=1413), HTML(value='')))",
      "application/vnd.jupyter.widget-view+json": {
       "version_major": 2,
       "version_minor": 0,
       "model_id": "7b43ef60e513408e95cf6f4d32fcb8b0"
      }
     },
     "metadata": {}
    },
    {
     "output_type": "stream",
     "name": "stdout",
     "text": "\n(1130, 32, 32, 32) (1130,) 565 0.5\n(283, 32, 32, 32) (283,) 141 0.49823321554770317\n"
    }
   ],
   "source": [
    "\n",
    "names = [f.name for f in os.scandir(folder_nano)]\n",
    "data_train_labels = pd.read_csv(filename_train_labels)\n",
    "data_train_labels = data_train_labels[\n",
    "    (data_train_labels.filename.isin(names))]\n",
    "names = data_train_labels.filename.values.tolist()\n",
    "labels = data_train_labels.stalled.values\n",
    "\n",
    "y = labels.copy()\n",
    "X = []\n",
    "for name in tqdm(names):\n",
    "    filename = os.path.join(folder_nano_numpy, name.split(\".\")[0] + \".npy\")\n",
    "    X.append(np.load(filename))\n",
    "X = np.array(X, np.float32)\n",
    "\n",
    "X_train, X_test, y_train, y_test = \\\n",
    "    train_test_split(X, y, test_size=0.2, random_state=0)\n",
    "\n",
    "print(X_train.shape, y_train.shape, y_train.sum(), y_train.sum() / len(y_train))\n",
    "print(X_test.shape, y_test.shape, y_test.sum(), y_test.sum() / len(y_test))"
   ]
  },
  {
   "cell_type": "code",
   "execution_count": 6,
   "metadata": {
    "tags": []
   },
   "outputs": [
    {
     "output_type": "stream",
     "name": "stdout",
     "text": "Train on 1130 samples, validate on 283 samples\nEpoch 1/10\n1130/1130 [==============================] - 10s 9ms/sample - loss: 0.7397 - acc: 0.5841 - val_loss: 0.9941 - val_acc: 0.5018\nEpoch 2/10\n1130/1130 [==============================] - 9s 8ms/sample - loss: 0.6582 - acc: 0.6398 - val_loss: 0.7263 - val_acc: 0.5018\nEpoch 3/10\n1130/1130 [==============================] - 9s 8ms/sample - loss: 0.6134 - acc: 0.6858 - val_loss: 0.7312 - val_acc: 0.5053\nEpoch 4/10\n1130/1130 [==============================] - 9s 8ms/sample - loss: 0.5664 - acc: 0.7195 - val_loss: 0.7182 - val_acc: 0.5088\nEpoch 5/10\n1130/1130 [==============================] - 9s 8ms/sample - loss: 0.5573 - acc: 0.7336 - val_loss: 0.7337 - val_acc: 0.5442\nEpoch 6/10\n1130/1130 [==============================] - 9s 8ms/sample - loss: 0.5267 - acc: 0.7416 - val_loss: 0.6593 - val_acc: 0.6466\nEpoch 7/10\n1130/1130 [==============================] - 9s 8ms/sample - loss: 0.4696 - acc: 0.7841 - val_loss: 0.9779 - val_acc: 0.6113\nEpoch 8/10\n1130/1130 [==============================] - 9s 8ms/sample - loss: 0.4222 - acc: 0.8177 - val_loss: 0.9800 - val_acc: 0.5724\nEpoch 9/10\n1130/1130 [==============================] - 9s 8ms/sample - loss: 0.3771 - acc: 0.8496 - val_loss: 0.7568 - val_acc: 0.6784\nEpoch 10/10\n1130/1130 [==============================] - 8s 7ms/sample - loss: 0.3440 - acc: 0.8628 - val_loss: 1.1529 - val_acc: 0.6643\n"
    },
    {
     "output_type": "execute_result",
     "data": {
      "text/plain": "<tensorflow.python.keras.callbacks.History at 0x7fd1d808eeb8>"
     },
     "metadata": {},
     "execution_count": 6
    }
   ],
   "source": [
    "model = get_simple_model(X.shape[1:4])\n",
    "model.compile(optimizer=tf.keras.optimizers.Adam(learning_rate=1e-3),\n",
    "              loss=tf.keras.losses.BinaryCrossentropy(),\n",
    "              metrics=['accuracy'])\n",
    "\n",
    "callbacks = [\n",
    "    tf.keras.callbacks.ReduceLROnPlateau(monitor='val_acc', factor=0.5,\n",
    "                              patience=5, min_lr=1e-6,),\n",
    "    tf.keras.callbacks.EarlyStopping(monitor='val_acc', patience=10)\n",
    "]\n",
    "model.fit(X_train, y_train, \n",
    "    batch_size=16, \n",
    "    epochs=10, \n",
    "    validation_data=(X_test, y_test),\n",
    "    callbacks=callbacks,)"
   ]
  },
  {
   "cell_type": "code",
   "execution_count": 7,
   "metadata": {
    "tags": []
   },
   "outputs": [
    {
     "output_type": "stream",
     "name": "stdout",
     "text": "(1130, 1)\n(283, 1)\naccuracy   0.807\nprecision  0.981\nrecall     0.627\nf1         0.765\nauc        0.908\nmcc        0.659\n\naccuracy   0.664\nprecision  0.780\nrecall     0.454\nf1         0.574\nauc        0.746\nmcc        0.361\n"
    }
   ],
   "source": [
    "y_train_preds = model.predict(X_train)\n",
    "y_test_preds = model.predict(X_test)\n",
    "\n",
    "print(y_train_preds.shape)\n",
    "print(y_test_preds.shape)\n",
    "\n",
    "scores_train = print_scores(y_train, y_train_preds)\n",
    "print()\n",
    "scores_test = print_scores(y_test, y_test_preds)"
   ]
  },
  {
   "cell_type": "code",
   "execution_count": 44,
   "metadata": {},
   "outputs": [
    {
     "data": {
      "application/vnd.jupyter.widget-view+json": {
       "model_id": "3a4befa1ab434d8d82ad6fb1f9af6f71",
       "version_major": 2,
       "version_minor": 0
      },
      "text/plain": [
       "HBox(children=(IntProgress(value=0, max=14160), HTML(value='')))"
      ]
     },
     "metadata": {},
     "output_type": "display_data"
    },
    {
     "name": "stdout",
     "output_type": "stream",
     "text": [
      "\n"
     ]
    }
   ],
   "source": [
    "\n",
    "data_test_metadata = pd.read_csv(filename_test_metadata)\n",
    "names_test = data_test_metadata.filename.values.tolist()\n",
    "y_test_pred_subm = []\n",
    "for name in tqdm(names_test):\n",
    "    filename = os.path.join(folder_test_numpy, name.split(\".\")[0] + \".npy\")\n",
    "    vol = np.load(filename)\n",
    "    vol = np.array([vol])\n",
    "    y_test_pred_subm.append(model.predict(vol)[0, 0])\n",
    "    \n",
    "y_test_pred_subm = np.array(y_test_pred_subm)"
   ]
  },
  {
   "cell_type": "code",
   "execution_count": 43,
   "metadata": {},
   "outputs": [
    {
     "data": {
      "text/plain": [
       "0.0007028469"
      ]
     },
     "execution_count": 43,
     "metadata": {},
     "output_type": "execute_result"
    }
   ],
   "source": [
    "model.predict(vol)[0, 0]"
   ]
  },
  {
   "cell_type": "code",
   "execution_count": 55,
   "metadata": {},
   "outputs": [
    {
     "name": "stdout",
     "output_type": "stream",
     "text": [
      "0.35464847\n",
      "0.06574858757062146 931 0.06574858757062146\n"
     ]
    }
   ],
   "source": [
    "y_subm = np.array(y_test_pred_subm >= 0.999, np.int32)\n",
    "print(np.mean(y_test_pred_subm))\n",
    "print(np.mean(y_subm), np.sum(y_subm), np.sum(y_subm) / len(y_subm))\n",
    "data_subm = pd.DataFrame({\"filename\": names_test, \"stalled\": y_subm})\n",
    "data_subm.to_csv(os.path.join(\"submission_1.csv\"), index=False)"
   ]
  },
  {
   "cell_type": "code",
   "execution_count": 56,
   "metadata": {},
   "outputs": [
    {
     "data": {
      "text/html": [
       "<div>\n",
       "<style scoped>\n",
       "    .dataframe tbody tr th:only-of-type {\n",
       "        vertical-align: middle;\n",
       "    }\n",
       "\n",
       "    .dataframe tbody tr th {\n",
       "        vertical-align: top;\n",
       "    }\n",
       "\n",
       "    .dataframe thead th {\n",
       "        text-align: right;\n",
       "    }\n",
       "</style>\n",
       "<table border=\"1\" class=\"dataframe\">\n",
       "  <thead>\n",
       "    <tr style=\"text-align: right;\">\n",
       "      <th></th>\n",
       "      <th>filename</th>\n",
       "      <th>stalled</th>\n",
       "    </tr>\n",
       "  </thead>\n",
       "  <tbody>\n",
       "    <tr>\n",
       "      <th>0</th>\n",
       "      <td>100032.mp4</td>\n",
       "      <td>0</td>\n",
       "    </tr>\n",
       "    <tr>\n",
       "      <th>1</th>\n",
       "      <td>100037.mp4</td>\n",
       "      <td>0</td>\n",
       "    </tr>\n",
       "    <tr>\n",
       "      <th>2</th>\n",
       "      <td>100139.mp4</td>\n",
       "      <td>1</td>\n",
       "    </tr>\n",
       "    <tr>\n",
       "      <th>3</th>\n",
       "      <td>100182.mp4</td>\n",
       "      <td>0</td>\n",
       "    </tr>\n",
       "    <tr>\n",
       "      <th>4</th>\n",
       "      <td>100214.mp4</td>\n",
       "      <td>0</td>\n",
       "    </tr>\n",
       "  </tbody>\n",
       "</table>\n",
       "</div>"
      ],
      "text/plain": [
       "     filename  stalled\n",
       "0  100032.mp4        0\n",
       "1  100037.mp4        0\n",
       "2  100139.mp4        1\n",
       "3  100182.mp4        0\n",
       "4  100214.mp4        0"
      ]
     },
     "execution_count": 56,
     "metadata": {},
     "output_type": "execute_result"
    }
   ],
   "source": [
    "data_subm.head()"
   ]
  },
  {
   "cell_type": "code",
   "execution_count": null,
   "metadata": {},
   "outputs": [],
   "source": []
  }
 ],
 "metadata": {
  "kernelspec": {
   "display_name": "Python 3",
   "language": "python",
   "name": "python3"
  },
  "language_info": {
   "codemirror_mode": {
    "name": "ipython",
    "version": 3
   },
   "file_extension": ".py",
   "mimetype": "text/x-python",
   "name": "python",
   "nbconvert_exporter": "python",
   "pygments_lexer": "ipython3",
   "version": "3.6.9-final"
  }
 },
 "nbformat": 4,
 "nbformat_minor": 2
}